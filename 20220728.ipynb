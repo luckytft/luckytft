{
  "nbformat": 4,
  "nbformat_minor": 0,
  "metadata": {
    "colab": {
      "name": "20220728.ipynb",
      "provenance": [],
      "authorship_tag": "ABX9TyO7ED7/P9KURtW4T0EkMkEx",
      "include_colab_link": true
    },
    "kernelspec": {
      "name": "python3",
      "display_name": "Python 3"
    },
    "language_info": {
      "name": "python"
    }
  },
  "cells": [
    {
      "cell_type": "markdown",
      "metadata": {
        "id": "view-in-github",
        "colab_type": "text"
      },
      "source": [
        "<a href=\"https://colab.research.google.com/github/luckytft/luckytft/blob/main/20220728.ipynb\" target=\"_parent\"><img src=\"https://colab.research.google.com/assets/colab-badge.svg\" alt=\"Open In Colab\"/></a>"
      ]
    },
    {
      "cell_type": "markdown",
      "source": [
        "# 20220728 Lucky"
      ],
      "metadata": {
        "id": "UCoio4n9asSL"
      }
    },
    {
      "cell_type": "markdown",
      "source": [
        "## 複習一下"
      ],
      "metadata": {
        "id": "Gy-Nl2-hbkuR"
      }
    },
    {
      "cell_type": "markdown",
      "source": [
        "\n",
        "四個基礎的資料型態:\n",
        "* int\n",
        "* float\n",
        "* bool\n",
        "* str\n",
        "\n",
        "四個基礎的容器型別：\n",
        "* list\n",
        "* tuple\n",
        "* dict\n",
        "* set\n",
        "\n",
        "四個基礎的語法：\n",
        "* 條件式 (if)\n",
        "  * 選擇性的執行程式區塊\n",
        "* 迴圈 (loops)\n",
        "  * 反覆執行程式區塊\n",
        "* 函式 (functions)\n",
        "  * 先定義好程式區塊，呼叫的時候再執行\n",
        "* 例外處理 (Exception Handling)\n",
        "  * 嘗試執行某個程式區塊，如果發生錯誤，呼叫另外一個程式區塊來處理錯誤"
      ],
      "metadata": {
        "id": "6GJrnxj6cNdZ"
      }
    },
    {
      "cell_type": "markdown",
      "source": [
        "## if statements"
      ],
      "metadata": {
        "id": "EYWubSXNbs4h"
      }
    },
    {
      "cell_type": "code",
      "source": [
        "a = 2\n",
        "b = 2\n",
        "\n",
        "if a > b:\n",
        "  print(\"a > b\")\n",
        "elif a < b:\n",
        "  print(\"a < b\")\n",
        "else:\n",
        "  print(\"a = b\")"
      ],
      "metadata": {
        "colab": {
          "base_uri": "https://localhost:8080/"
        },
        "id": "fYaM5Fe0btjn",
        "outputId": "b0aa607a-9f80-4672-fc1a-b7889be11e7f"
      },
      "execution_count": 1,
      "outputs": [
        {
          "output_type": "stream",
          "name": "stdout",
          "text": [
            "a = b\n"
          ]
        }
      ]
    },
    {
      "cell_type": "markdown",
      "source": [
        "## 練習"
      ],
      "metadata": {
        "id": "i0l23D_7cPDb"
      }
    },
    {
      "cell_type": "markdown",
      "source": [
        "\n",
        "$ bmi = \\frac{體重(公斤)}{身高(公尺)^2} $\n",
        "\n",
        "|bmi|說明|\n",
        "|:-:|:-:|\n",
        "|bmi < 18 | 過輕|\n",
        "|18 < bmi < 24 | 健康|\n",
        "|bmi  18 | 過輕|"
      ],
      "metadata": {
        "id": "A69wDha8cezS"
      }
    },
    {
      "cell_type": "code",
      "source": [
        "w = 70\n",
        "h = 1.83\n",
        "bmi = w / h**2\n",
        "\n",
        "if bmi <= 18:\n",
        "  print(\"過輕\")\n",
        "elif bmi > 18 and bmi < 24:\n",
        "  print(\"健康\")\n",
        "else:\n",
        "  print(\"其他\")\n"
      ],
      "metadata": {
        "colab": {
          "base_uri": "https://localhost:8080/"
        },
        "id": "_IJVh8smckwV",
        "outputId": "78a8dfa5-7c78-475f-9bae-20c37379df3d"
      },
      "execution_count": 19,
      "outputs": [
        {
          "output_type": "stream",
          "name": "stdout",
          "text": [
            "健康\n"
          ]
        }
      ]
    },
    {
      "cell_type": "markdown",
      "source": [
        "## 迴圈\n",
        "\n",
        "* for\n",
        "* while"
      ],
      "metadata": {
        "id": "Tnys9hQFgRoV"
      }
    },
    {
      "cell_type": "code",
      "source": [
        "for i in range(5):\n",
        "  print(i*2+1)"
      ],
      "metadata": {
        "colab": {
          "base_uri": "https://localhost:8080/"
        },
        "id": "TEtetVJQgSbE",
        "outputId": "ee70b677-d87d-4b4e-feb7-7023ea2b9523"
      },
      "execution_count": 15,
      "outputs": [
        {
          "output_type": "stream",
          "name": "stdout",
          "text": [
            "1\n",
            "3\n",
            "5\n",
            "7\n",
            "9\n"
          ]
        }
      ]
    },
    {
      "cell_type": "code",
      "source": [
        "for i in range(5):\n",
        "  print((5-i)*\" \"+(2*i+1)*\"*\")"
      ],
      "metadata": {
        "colab": {
          "base_uri": "https://localhost:8080/"
        },
        "id": "v5YYFELRjpK2",
        "outputId": "ce1b1a98-c516-4dcd-a24b-3b66d7fd8fb7"
      },
      "execution_count": 16,
      "outputs": [
        {
          "output_type": "stream",
          "name": "stdout",
          "text": [
            "     *\n",
            "    ***\n",
            "   *****\n",
            "  *******\n",
            " *********\n"
          ]
        }
      ]
    },
    {
      "cell_type": "code",
      "source": [
        "def pyramid(h):\n",
        "  for i in range(5):\n",
        "    print((5-i)*\" \"+(2*i+1)*\"*\")"
      ],
      "metadata": {
        "id": "bSi9KH3Ajzqw"
      },
      "execution_count": 17,
      "outputs": []
    },
    {
      "cell_type": "code",
      "source": [
        "pyramid(3)"
      ],
      "metadata": {
        "colab": {
          "base_uri": "https://localhost:8080/"
        },
        "id": "kNq0DgQbj3DL",
        "outputId": "922ac5a5-07c5-4e0f-fc43-5badb80a175a"
      },
      "execution_count": 18,
      "outputs": [
        {
          "output_type": "stream",
          "name": "stdout",
          "text": [
            "     *\n",
            "    ***\n",
            "   *****\n",
            "  *******\n",
            " *********\n"
          ]
        }
      ]
    },
    {
      "cell_type": "markdown",
      "source": [
        "### 關於程式區塊"
      ],
      "metadata": {
        "id": "ZJBptzEZl1h2"
      }
    },
    {
      "cell_type": "code",
      "source": [
        "for i in range(3):\n",
        "  print(\"開始\")\n",
        "  print(i)\n",
        "print(\"結束\")"
      ],
      "metadata": {
        "colab": {
          "base_uri": "https://localhost:8080/"
        },
        "id": "3oqXzB15l2Hj",
        "outputId": "0b128ea8-3ac9-4ccf-ee91-986922df8931"
      },
      "execution_count": 21,
      "outputs": [
        {
          "output_type": "stream",
          "name": "stdout",
          "text": [
            "開始\n",
            "0\n",
            "開始\n",
            "1\n",
            "開始\n",
            "2\n",
            "結束\n"
          ]
        }
      ]
    }
  ]
}